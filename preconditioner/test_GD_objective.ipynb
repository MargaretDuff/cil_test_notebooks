{
 "cells": [
  {
   "cell_type": "code",
   "execution_count": null,
   "metadata": {},
   "outputs": [],
   "source": [
    "\n"
   ]
  },
  {
   "cell_type": "code",
   "execution_count": 7,
   "metadata": {},
   "outputs": [
    {
     "name": "stderr",
     "output_type": "stream",
     "text": [
      "/tmp/ipykernel_2751182/779284065.py:21: DeprecationWarning: `run()` missing `iterations`\n",
      "  alg.run(verbose=0)\n"
     ]
    },
    {
     "data": {
      "image/png": "[encoded data removed]",
      "text/plain": [
       "<Figure size 640x480 with 1 Axes>"
      ]
     },
     "metadata": {},
     "output_type": "display_data"
    },
    {
     "name": "stdout",
     "output_type": "stream",
     "text": [
      "[744.449462890625, 744.449462890625, 9.190739631652832, 0.11346594244241714, 0.001400813227519393, 1.7293787095695734e-05, 2.1351769419197808e-07, 2.636577622894265e-09, 3.1145773460306003e-11]\n"
     ]
    }
   ],
   "source": [
    "\n",
    "\n",
    "\n",
    "import matplotlib.pyplot as plt\n",
    "from cil.utilities.display import show2D\n",
    "from cil.recon import FDK\n",
    "from cil.optimisation.algorithms import  GD\n",
    "from cil.optimisation.functions import  LeastSquares\n",
    "from cil.framework import ImageGeometry\n",
    "from cil.optimisation.operators import IdentityOperator\n",
    "\n",
    "\n",
    "ig = ImageGeometry(12,13,14)\n",
    "initial = ig.allocate(0)\n",
    "b = ig.allocate('random')\n",
    "identity = IdentityOperator(ig)\n",
    "\n",
    "norm2sq = LeastSquares(identity, b)\n",
    "step_size = norm2sq.L / 3.\n",
    "\n",
    "alg = GD(initial=initial, objective_function=norm2sq, step_size=step_size,\n",
    "            atol=1e-9, rtol=1e-6)\n",
    "alg.max_iteration = 1000\n",
    "alg.run(verbose=0)\n",
    "\n",
    "alg = GD(initial=initial, objective_function=norm2sq, step_size=step_size,\n",
    "            atol=1e-9, rtol=1e-6, max_iteration=20, update_objective_interval=2)\n",
    "\n",
    "alg.run(20, verbose=0)\n",
    "\n",
    "plt.figure()\n",
    "plt.plot(alg.objective, label=\"LS\")\n",
    "plt.legend()\n",
    "plt.ylabel(r\"$f\\,(x_{k})$\")\n",
    "plt.show()\n",
    "\n",
    "print(alg.objective)"
   ]
  },
  {
   "cell_type": "code",
   "execution_count": null,
   "metadata": {},
   "outputs": [
    {
     "ename": "NameError",
     "evalue": "name 'ProjectionOperator' is not defined",
     "output_type": "error",
     "traceback": [
      "\u001b[0;31m---------------------------------------------------------------------------\u001b[0m",
      "\u001b[0;31mNameError\u001b[0m                                 Traceback (most recent call last)",
      "Cell \u001b[0;32mIn[1], line 1\u001b[0m\n\u001b[0;32m----> 1\u001b[0m A \u001b[38;5;241m=\u001b[39m \u001b[43mProjectionOperator\u001b[49m(ig, ag, device\u001b[38;5;241m=\u001b[39m\u001b[38;5;124m\"\u001b[39m\u001b[38;5;124mgpu\u001b[39m\u001b[38;5;124m\"\u001b[39m)\n\u001b[1;32m      2\u001b[0m f \u001b[38;5;241m=\u001b[39m LeastSquares(A\u001b[38;5;241m=\u001b[39mA, b\u001b[38;5;241m=\u001b[39mdata,)\n\u001b[1;32m      3\u001b[0m step_size \u001b[38;5;241m=\u001b[39m \u001b[38;5;241m1.\u001b[39m\n",
      "\u001b[0;31mNameError\u001b[0m: name 'ProjectionOperator' is not defined"
     ]
    }
   ],
   "source": [
    "\n"
   ]
  },
  {
   "cell_type": "code",
   "execution_count": null,
   "metadata": {},
   "outputs": [],
   "source": []
  },
  {
   "cell_type": "code",
   "execution_count": null,
   "metadata": {},
   "outputs": [],
   "source": []
  }
 ],
 "metadata": {
  "kernelspec": {
   "display_name": "cil_23_1_0",
   "language": "python",
   "name": "python3"
  },
  "language_info": {
   "codemirror_mode": {
    "name": "ipython",
    "version": 3
   },
   "file_extension": ".py",
   "mimetype": "text/x-python",
   "name": "python",
   "nbconvert_exporter": "python",
   "pygments_lexer": "ipython3",
   "version": "3.1.-1"
  }
 },
 "nbformat": 4,
 "nbformat_minor": 2
}
