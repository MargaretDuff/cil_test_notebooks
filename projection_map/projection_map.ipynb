{
 "cells": [
  {
   "cell_type": "code",
   "execution_count": 7,
   "metadata": {},
   "outputs": [],
   "source": [
    "\n",
    "import numpy as np\n",
    "\n",
    "from cil.framework import AcquisitionGeometry, ImageGeometry, VectorGeometry\n",
    "from cil.optimisation.operators import IdentityOperator\n",
    "from cil.optimisation.functions import  KullbackLeibler, ConstantFunction, TranslateFunction\n",
    "from cil.optimisation.operators import LinearOperator, MatrixOperator  \n",
    "from cil.optimisation.operators import SumOperator,  ZeroOperator, CompositionOperator, ProjectionMap\n",
    "from cil.optimisation.operators import BlockOperator,\\\n",
    "    FiniteDifferenceOperator, SymmetrisedGradientOperator,  DiagonalOperator, MaskOperator, ChannelwiseOperator, BlurringOperator\n",
    "\n",
    "from cil.optimisation.functions import  KullbackLeibler, WeightedL2NormSquared, L2NormSquared, \\\n",
    "    L1Norm, L2NormSquared, MixedL21Norm, LeastSquares, \\\n",
    "    SmoothMixedL21Norm, OperatorCompositionFunction, \\\n",
    "     IndicatorBox, TotalVariation,  SumFunction, SumScalarFunction, \\\n",
    "    WeightedL2NormSquared, MixedL11Norm, ZeroFunction\n",
    "\n",
    "\n",
    "import numpy\n",
    "\n",
    "\n",
    "from cil.framework import  BlockGeometry\n",
    "from cil.optimisation.functions import TranslateFunction\n",
    "from timeit import default_timer as timer\n",
    "\n",
    "import numpy as np\n",
    "\n",
    "\n",
    "from cil.utilities.quality_measures import mae"
   ]
  },
  {
   "cell_type": "code",
   "execution_count": 8,
   "metadata": {},
   "outputs": [],
   "source": [
    "m = 30\n",
    "n = 20\n",
    "\n",
    "vg = VectorGeometry(n)\n",
    "\n",
    "ig = ImageGeometry(10,20,30)\n",
    "\n",
    "scalar=33\n",
    "\n",
    "M = 3\n",
    "ig_2D = ImageGeometry(M, M)\n",
    "\n",
    "mask = ig_2D.allocate(True,dtype=bool)\n",
    "amask = mask.as_array()\n",
    "amask[2,1:3] = False\n",
    "amask[0,0] = False\n",
    "\n",
    "\n",
    "channels = 4\n",
    "ig_channels = ImageGeometry(M, M, channels=channels)\n",
    "\n",
    "\n",
    "\n",
    "# Parameters for point spread function PSF (size and std)\n",
    "ks          = 3; \n",
    "ksigma      = 5.0\n",
    "\n",
    "# Create 1D PSF and 2D as outer product, then normalise.\n",
    "w           = numpy.exp(-numpy.arange(-(ks-1)/2,(ks-1)/2+1)**2/(2*ksigma**2))\n",
    "w.shape     = (ks,1)\n",
    "PSF         = w*numpy.transpose(w)\n",
    "PSF         = PSF/(PSF**2).sum()\n",
    "PSF         = PSF/PSF.sum()\n",
    "\n",
    "\n",
    "N, M = 4, 3\n",
    "ig_2d_diff = ImageGeometry(voxel_num_x=M, voxel_num_y=N, voxel_size_x=0.1, voxel_size_y=0.4)\n",
    "    \n",
    "M, N, K = 2,4,3\n",
    "ig_2d_chann = ImageGeometry(voxel_num_x=M, voxel_num_y=N, channels=K, voxel_size_x=0.1, voxel_size_y=0.4)\n",
    "\n",
    "\n",
    "ig1 = ImageGeometry(3,4)\n",
    "ig2 = ImageGeometry(5,6)\n",
    "ig3 = ImageGeometry(5,6,4)\n",
    "bg = BlockGeometry(ig1, ig2, ig3, ig1, ig2, ig3) "
   ]
  },
  {
   "cell_type": "code",
   "execution_count": 10,
   "metadata": {},
   "outputs": [
    {
     "data": {
      "text/plain": [
       "<cil.framework.BlockDataContainer.BlockDataContainer at 0x7f5fa6dba0b0>"
      ]
     },
     "execution_count": 10,
     "metadata": {},
     "output_type": "execute_result"
    }
   ],
   "source": [
    "bg.allocate('random')"
   ]
  },
  {
   "cell_type": "code",
   "execution_count": 25,
   "metadata": {},
   "outputs": [],
   "source": [
    "data=ig2.allocate('random')\n",
    "operator=ProjectionMap(bg, index=1)\n",
    "out = operator.adjoint(data)\n",
    "out2=bg.allocate('random')\n",
    "operator.adjoint(data,  out=out2)"
   ]
  },
  {
   "cell_type": "code",
   "execution_count": 29,
   "metadata": {},
   "outputs": [
    {
     "data": {
      "text/plain": [
       "array([[0., 0., 0.],\n",
       "       [0., 0., 0.],\n",
       "       [0., 0., 0.],\n",
       "       [0., 0., 0.]], dtype=float32)"
      ]
     },
     "execution_count": 29,
     "metadata": {},
     "output_type": "execute_result"
    }
   ],
   "source": [
    "out[0].as_array()"
   ]
  },
  {
   "cell_type": "code",
   "execution_count": 28,
   "metadata": {},
   "outputs": [
    {
     "data": {
      "text/plain": [
       "array([[0.2785151 , 0.2019627 , 0.644598  ],\n",
       "       [0.85343   , 0.5555722 , 0.43942484],\n",
       "       [0.0594619 , 0.26620597, 0.72966766],\n",
       "       [0.8472352 , 0.09246602, 0.3130464 ]], dtype=float32)"
      ]
     },
     "execution_count": 28,
     "metadata": {},
     "output_type": "execute_result"
    }
   ],
   "source": [
    "out2[0].as_array()"
   ]
  },
  {
   "cell_type": "code",
   "execution_count": null,
   "metadata": {},
   "outputs": [],
   "source": []
  }
 ],
 "metadata": {
  "kernelspec": {
   "display_name": "cil_23_1_0",
   "language": "python",
   "name": "python3"
  },
  "language_info": {
   "codemirror_mode": {
    "name": "ipython",
    "version": 3
   },
   "file_extension": ".py",
   "mimetype": "text/x-python",
   "name": "python",
   "nbconvert_exporter": "python",
   "pygments_lexer": "ipython3",
   "version": "3.10.12"
  }
 },
 "nbformat": 4,
 "nbformat_minor": 2
}
