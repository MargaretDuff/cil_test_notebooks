{
 "cells": [
  {
   "cell_type": "code",
   "execution_count": null,
   "metadata": {},
   "outputs": [],
   "source": [
    "import random\n",
    "\n",
    "def split_into_pairs(names):\n",
    "    shuffled_names = names[:]  # Make a copy of the original list\n",
    "    random.shuffle(shuffled_names)  # Shuffle the names randomly\n",
    "    if len(shuffled_names) % 2 != 0:\n",
    "        shuffled_names.append(None)  # Add None to make the list even if necessary\n",
    "    pairs = []\n",
    "    mid = len(shuffled_names) // 2\n",
    "    for i in range(mid):\n",
    "        pairs.append((shuffled_names[i], shuffled_names[mid + i]))\n",
    "    return pairs\n",
    "\n",
    "# Example list of names\n",
    "names = ['Edo', 'Hannah', 'Laura', 'Casper', 'Rasmia', 'Nalin', 'Franck', 'Danica', 'Gemma', 'Margaret']\n",
    "\n",
    "# Split names into pairs (randomly shuffled each time)\n",
    "pairs = split_into_pairs(names)\n",
    "\n",
    "# Print the pairs\n",
    "for pair in pairs:\n",
    "    print(pair)\n"
   ]
  },
  {
   "cell_type": "markdown",
   "metadata": {},
   "source": [
    "The next cell is credit to Gemma Fardell! "
   ]
  },
  {
   "cell_type": "code",
   "execution_count": null,
   "metadata": {},
   "outputs": [],
   "source": [
    "import random\n",
    "\n",
    "def get_pairs(names, previous_pairs=None):\n",
    "    print(\"Calling get_pairs\")\n",
    "    shuffled_names = names.copy()\n",
    "    random.shuffle(shuffled_names)\n",
    "\n",
    "    num_groups = len(shuffled_names) // 2\n",
    "    pairs = [None] * num_groups\n",
    "\n",
    "    for i in range(num_groups):\n",
    "        pairs[i] = [shuffled_names[i * 2], shuffled_names[i * 2 + 1]]\n",
    "\n",
    "    if len(shuffled_names) % 2 == 1:\n",
    "        pairs[-1].append(shuffled_names[-1])\n",
    "\n",
    "    if num_groups >1:\n",
    "        for pair in pairs:\n",
    "            for previous_pair in previous_pairs:\n",
    "                if pair[0] in previous_pair and pair[1] in previous_pair:\n",
    "                    print(\"Found a previous pair\")\n",
    "                    return get_pairs(names, previous_pairs)\n",
    "        \n",
    "    return pairs\n",
    "\n",
    "\n",
    "previous_pairs = [\n",
    "('Edo', 'Margaret'),\n",
    "('Rasmia', 'Laura'),\n",
    "('Danica', 'Hannah'),\n",
    "('Nalin', 'Casper'),\n",
    "('Franck', 'Gemma'),\n",
    "]\n",
    "\n",
    "names = [('Edo',1),\n",
    "         ('Hannah',1),\n",
    "         ('Laura',1),\n",
    "         ('Casper',1),\n",
    "         ('Rasmia',1),\n",
    "         ('Nalin',1),\n",
    "         ('Franck',1),\n",
    "         ('Danica',1),\n",
    "         ('Gemma',1),\n",
    "         ('Margaret',1),\n",
    "         ]\n",
    "\n",
    "available_names = []\n",
    "for name in names:\n",
    "    if name[1] == 1:\n",
    "        available_names.append(name[0])\n",
    "\n",
    "#%%\n",
    "pairs = get_pairs(available_names, previous_pairs)\n",
    "\n",
    "for pair in pairs:\n",
    "    print(pair)"
   ]
  }
 ],
 "metadata": {
  "kernelspec": {
   "display_name": "cil_23_1_0",
   "language": "python",
   "name": "python3"
  },
  "language_info": {
   "codemirror_mode": {
    "name": "ipython",
    "version": 3
   },
   "file_extension": ".py",
   "mimetype": "text/x-python",
   "name": "python",
   "nbconvert_exporter": "python",
   "pygments_lexer": "ipython3",
   "version": "3.10.12"
  }
 },
 "nbformat": 4,
 "nbformat_minor": 2
}
