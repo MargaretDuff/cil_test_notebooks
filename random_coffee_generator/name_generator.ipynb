{
 "cells": [
  {
   "cell_type": "code",
   "execution_count": null,
   "metadata": {},
   "outputs": [],
   "source": [
    "import random\n",
    "\n",
    "def split_into_pairs(names):\n",
    "    shuffled_names = names[:]  # Make a copy of the original list\n",
    "    random.shuffle(shuffled_names)  # Shuffle the names randomly\n",
    "    if len(shuffled_names) % 2 != 0:\n",
    "        shuffled_names.append(None)  # Add None to make the list even if necessary\n",
    "    pairs = []\n",
    "    mid = len(shuffled_names) // 2\n",
    "    for i in range(mid):\n",
    "        pairs.append((shuffled_names[i], shuffled_names[mid + i]))\n",
    "    return pairs\n",
    "\n",
    "# Example list of names\n",
    "names = ['Edo', 'Hannah', 'Laura', 'Casper', 'Rasmia', 'Nalin', 'Franck', 'Danica', 'Gemma', 'Margaret']\n",
    "\n",
    "# Split names into pairs (randomly shuffled each time)\n",
    "pairs = split_into_pairs(names)\n",
    "\n",
    "# Print the pairs\n",
    "for pair in pairs:\n",
    "    print(pair)\n"
   ]
  },
  {
   "cell_type": "code",
   "execution_count": null,
   "metadata": {},
   "outputs": [],
   "source": []
  }
 ],
 "metadata": {
  "kernelspec": {
   "display_name": "cil_23_1_0",
   "language": "python",
   "name": "python3"
  },
  "language_info": {
   "codemirror_mode": {
    "name": "ipython",
    "version": 3
   },
   "file_extension": ".py",
   "mimetype": "text/x-python",
   "name": "python",
   "nbconvert_exporter": "python",
   "pygments_lexer": "ipython3",
   "version": "3.10.12"
  }
 },
 "nbformat": 4,
 "nbformat_minor": 2
}
