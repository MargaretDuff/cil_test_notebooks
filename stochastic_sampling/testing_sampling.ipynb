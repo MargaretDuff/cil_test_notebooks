{
 "cells": [
  {
   "cell_type": "code",
   "execution_count": 2,
   "metadata": {},
   "outputs": [],
   "source": [
    "\n",
    " \n",
    "import numpy as np\n",
    "import matplotlib.pyplot as plt\n",
    "import os\n",
    "from cil.framework import Sampler\n"
   ]
  },
  {
   "cell_type": "code",
   "execution_count": 17,
   "metadata": {},
   "outputs": [
    {
     "ename": "SyntaxError",
     "evalue": "invalid syntax (322026347.py, line 7)",
     "output_type": "error",
     "traceback": [
      "\u001b[0;36m  Cell \u001b[0;32mIn[17], line 7\u001b[0;36m\u001b[0m\n\u001b[0;31m    np.array([0 1 2 3 4 5 6 7 8 9 0 1 2 3 4 5 6 7 8 9])\u001b[0m\n\u001b[0m                ^\u001b[0m\n\u001b[0;31mSyntaxError\u001b[0m\u001b[0;31m:\u001b[0m invalid syntax\n"
     ]
    }
   ],
   "source": [
    "sampler=Sampler.sequential(10)\n",
    "print(sampler.get_samples(20))\n",
    "for _ in range(11):\n",
    "    print(sampler.next())\n",
    "\n",
    "next(sampler)\n",
    "np.array([0 ,1 ,2 ,3, 4, 5, 6 ,7, 8, 9, 0 ,1,2 ,3 ,4, 5, 6 ,7, 8, 9])"
   ]
  },
  {
   "cell_type": "code",
   "execution_count": 15,
   "metadata": {},
   "outputs": [
    {
     "name": "stdout",
     "output_type": "stream",
     "text": [
      "[7, 2, 1, 6, 0, 4, 3, 5]\n"
     ]
    }
   ],
   "source": [
    "sampler=Sampler.randomWithoutReplacement(8, shuffle=False, seed=1)\n",
    "print(list(sampler.get_samples(8)))\n",
    "\n"
   ]
  },
  {
   "cell_type": "code",
   "execution_count": 10,
   "metadata": {},
   "outputs": [
    {
     "name": "stdout",
     "output_type": "stream",
     "text": [
      "[ 0  6  3  9  1  7  4 10  2  8  5 11  0  6  3  9]\n",
      "0\n",
      "6\n",
      "3\n",
      "9\n",
      "1\n",
      "7\n",
      "4\n",
      "10\n",
      "2\n",
      "8\n",
      "5\n",
      "11\n",
      "0\n",
      "6\n",
      "3\n",
      "[0, 6, 3, 9, 1, 7, 4, 10, 2, 8, 5, 11]\n"
     ]
    }
   ],
   "source": [
    "sampler=Sampler.hermanMeyer(12)\n",
    "print(sampler.get_samples(16))\n",
    "for _ in range(15):\n",
    "    print(next(sampler))\n",
    "\n",
    "print(sampler.order)"
   ]
  },
  {
   "cell_type": "code",
   "execution_count": 21,
   "metadata": {},
   "outputs": [
    {
     "name": "stdout",
     "output_type": "stream",
     "text": [
      "1\n",
      "4\n",
      "1\n",
      "4\n",
      "2\n",
      "3\n",
      "3\n",
      "2\n",
      "1\n",
      "0\n",
      "0\n",
      "3\n",
      "[1, 4, 1, 4, 2, 3, 3, 2, 1, 0, 0, 3, 2, 0, 4, 1, 2, 1, 3, 2, 2, 1, 1, 1, 1]\n"
     ]
    }
   ],
   "source": [
    "sampler=Sampler.randomWithReplacement(5, seed=5)\n",
    "for _ in range(12):\n",
    "    print(sampler.next())\n",
    "print(list(sampler.get_samples(25)))\n"
   ]
  },
  {
   "cell_type": "code",
   "execution_count": 13,
   "metadata": {},
   "outputs": [
    {
     "name": "stdout",
     "output_type": "stream",
     "text": [
      "[0, 2, 0, 3, 0, 0, 1, 0, 0, 0, 0, 1, 0, 0, 2, 0, 0, 0, 0, 0, 0, 0, 0, 0, 0]\n"
     ]
    }
   ],
   "source": [
    "sampler=Sampler.randomWithReplacement(4, [0.7,0.1,0.1,0.1], seed=5)\n",
    "print(list(sampler.get_samples(25)))"
   ]
  },
  {
   "cell_type": "code",
   "execution_count": 8,
   "metadata": {},
   "outputs": [
    {
     "name": "stdout",
     "output_type": "stream",
     "text": [
      "[ 0  4  8 12 16]\n",
      "0\n",
      "4\n",
      "8\n",
      "12\n",
      "16\n",
      "20\n",
      "1\n",
      "5\n",
      "9\n",
      "13\n",
      "17\n",
      "2\n",
      "6\n",
      "10\n",
      "14\n",
      "[ 0  4  8 12 16]\n",
      "[0, 4, 8, 12, 16, 20, 1, 5, 9, 13, 17, 2, 6, 10, 14, 18, 3, 7, 11, 15, 19]\n"
     ]
    }
   ],
   "source": [
    "sampler=Sampler.staggered(21,4)\n",
    "print(sampler.get_samples(5))\n",
    "for _ in range(15):\n",
    "    print(sampler.next())\n",
    "print(sampler.get_samples(5))\n",
    "\n",
    "print(sampler.order)"
   ]
  },
  {
   "cell_type": "code",
   "execution_count": 9,
   "metadata": {},
   "outputs": [
    {
     "name": "stdout",
     "output_type": "stream",
     "text": [
      "[ 1  4  6  7  8  9 11  1  4  6  7]\n",
      "1\n",
      "4\n",
      "6\n",
      "7\n",
      "8\n",
      "9\n",
      "11\n",
      "1\n",
      "4\n",
      "[1 4 6 7 8]\n"
     ]
    }
   ],
   "source": [
    "sampler=Sampler.customOrder([1,4,6,7,8,9,11])\n",
    "print(sampler.get_samples(11))\n",
    "for _ in range(9):\n",
    "    print(sampler.next())\n",
    "print(sampler.get_samples(5))"
   ]
  },
  {
   "cell_type": "code",
   "execution_count": null,
   "metadata": {},
   "outputs": [],
   "source": []
  },
  {
   "cell_type": "code",
   "execution_count": null,
   "metadata": {},
   "outputs": [],
   "source": []
  }
 ],
 "metadata": {
  "kernelspec": {
   "display_name": "cil",
   "language": "python",
   "name": "python3"
  },
  "language_info": {
   "codemirror_mode": {
    "name": "ipython",
    "version": 3
   },
   "file_extension": ".py",
   "mimetype": "text/x-python",
   "name": "python",
   "nbconvert_exporter": "python",
   "pygments_lexer": "ipython3",
   "version": "3.8.17"
  },
  "orig_nbformat": 4
 },
 "nbformat": 4,
 "nbformat_minor": 2
}
