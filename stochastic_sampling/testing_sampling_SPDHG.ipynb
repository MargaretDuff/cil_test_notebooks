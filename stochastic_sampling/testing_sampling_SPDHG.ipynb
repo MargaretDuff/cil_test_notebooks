{
 "cells": [
  {
   "cell_type": "code",
   "execution_count": 1,
   "metadata": {},
   "outputs": [
    {
     "ename": "SyntaxError",
     "evalue": "keyword argument repeated: update_objective_interval (SPDHG.py, line 125)",
     "output_type": "error",
     "traceback": [
      "Traceback \u001b[0;36m(most recent call last)\u001b[0m:\n",
      "\u001b[0m  File \u001b[1;32m~/miniconda3/envs/cil_testing2/lib/python3.10/site-packages/IPython/core/interactiveshell.py:3526\u001b[0m in \u001b[1;35mrun_code\u001b[0m\n    exec(code_obj, self.user_global_ns, self.user_ns)\u001b[0m\n",
      "\u001b[0m  Cell \u001b[1;32mIn[1], line 5\u001b[0m\n    from cil.optimisation.algorithms import SPDHG\u001b[0m\n",
      "\u001b[0;36m  File \u001b[0;32m~/miniconda3/envs/cil_testing2/lib/python3.10/site-packages/cil/optimisation/algorithms/__init__.py:28\u001b[0;36m\n\u001b[0;31m    from .SPDHG import SPDHG\u001b[0;36m\n",
      "\u001b[0;36m  File \u001b[0;32m~/miniconda3/envs/cil_testing2/lib/python3.10/site-packages/cil/optimisation/algorithms/SPDHG.py:125\u001b[0;36m\u001b[0m\n\u001b[0;31m    update_objective_interval=update_objective_interval, log_file=log_file, print_interval=print_interval, update_objective_interval=update_objective_interval, return_all=return_all)\u001b[0m\n\u001b[0m                                                                                                           ^\u001b[0m\n\u001b[0;31mSyntaxError\u001b[0m\u001b[0;31m:\u001b[0m keyword argument repeated: update_objective_interval\n"
     ]
    }
   ],
   "source": [
    "from cil.framework import DataContainer, BlockDataContainer, Partitioner\n",
    "\n",
    "# Import libraries\n",
    "from cil.optimisation.utilities import Sampler\n",
    "from cil.optimisation.algorithms import SPDHG\n",
    "from cil.optimisation.operators import GradientOperator, BlockOperator\n",
    "from cil.optimisation.functions import IndicatorBox, BlockFunction, L2NormSquared, MixedL21Norm\n",
    " \n",
    "from cil.io import ZEISSDataReader\n",
    " \n",
    "from cil.processors import Slicer, Binner, TransmissionAbsorptionConverter\n",
    " \n",
    "from cil.plugins.astra.operators import ProjectionOperator\n",
    "from cil.plugins.ccpi_regularisation.functions import FGP_TV\n",
    " \n",
    "from cil.utilities.display import show2D\n",
    " \n",
    " \n",
    "import numpy as np\n",
    "import matplotlib.pyplot as plt\n",
    "import os\n",
    "\n"
   ]
  },
  {
   "cell_type": "code",
   "execution_count": null,
   "metadata": {},
   "outputs": [],
   "source": [
    "reader = ZEISSDataReader()\n",
    "filename = '../data/valnut_tomo-A.txrm'\n",
    "reader.set_up(file_name=filename)\n",
    "data3D = reader.read()\n",
    "\n",
    "# reorder data to match default order for Astra/Tigre operator\n",
    "data3D.reorder('astra')\n",
    "\n",
    "# Get Image and Acquisition geometries\n",
    "ag3D = data3D.geometry\n",
    "ig3D = ag3D.get_ImageGeometry()\n",
    "\n",
    "num_subsets = 80\n",
    "\n",
    "partitioned_data=data3D.partition(num_subsets, 'sequential')\n",
    "show2D(partitioned_data)\n",
    "\n",
    "\n",
    "# Initialize the lists containing the F_i's and A_i's\n",
    "f_subsets = []\n",
    "\n",
    "\n",
    "# Define F_i's \n",
    "for i in range(num_subsets):\n",
    "    # Define F_i and put into list\n",
    "    fi = 0.5*L2NormSquared(b = partitioned_data[i])\n",
    "    f_subsets.append(fi)\n",
    "    \n",
    "    \n",
    "ageom_subset = partitioned_data.geometry\n",
    "A = ProjectionOperator(ig3D, ageom_subset)\n",
    "\n",
    "#F = L2NormSquared.fromBlockDataContainer(partitioned_data, constant=0.5)\n",
    "\n",
    "# Define F and K\n",
    "F = BlockFunction(*f_subsets)\n",
    "K = A\n",
    "\n",
    "# Define G (by default the positivity constraint is on)\n",
    "alpha = 0.025\n",
    "G = alpha * FGP_TV()\n",
    "\n",
    "spdhg_sequential = SPDHG(f = F, g = G, operator = K,  max_iteration = 30*num_subsets,\n",
    "            update_objective_interval = num_subsets, sampler=Sampler.sequential(num_subsets))\n",
    "spdhg_sequential.run()"
   ]
  },
  {
   "cell_type": "code",
   "execution_count": null,
   "metadata": {},
   "outputs": [],
   "source": [
    "\n",
    "\n",
    "\n",
    "# Extract vertical slice\n",
    "data2D = data3D.get_slice(vertical='centre')\n",
    "\n",
    "# Select every 10 angles\n",
    "sliced_data = Slicer(roi={'angle':(0,1601,10)})(data2D)\n",
    "\n",
    "# Reduce background regions\n",
    "binned_data = Binner(roi={'horizontal':(120,-120,2)})(sliced_data)\n",
    "\n",
    "# Create absorption data \n",
    "data = TransmissionAbsorptionConverter()(binned_data) \n",
    "\n",
    "# Remove circular artifacts\n",
    "data -= np.mean(data.as_array()[80:100,0:30])\n",
    "\n",
    "# Get Image and Acquisition geometries for one slice\n",
    "ag2D = data.geometry\n",
    "ag2D.set_angles(ag2D.angles, initial_angle=0.2, angle_unit='radian')\n",
    "ig2D = ag2D.get_ImageGeometry()\n",
    "\n",
    "A = ProjectionOperator(ig2D, ag2D, device = \"gpu\")\n",
    "\n",
    "#show2D(data)"
   ]
  },
  {
   "cell_type": "code",
   "execution_count": null,
   "metadata": {},
   "outputs": [],
   "source": [
    "import matplotlib\n",
    "print(matplotlib. __version__)\n"
   ]
  },
  {
   "cell_type": "code",
   "execution_count": null,
   "metadata": {},
   "outputs": [],
   "source": [
    "# Define number of subsets\n",
    "num_subsets = 80\n",
    "\n",
    "partitioned_data=data.partition(num_subsets, 'sequential')\n",
    "show2D(partitioned_data)\n",
    "\n",
    "\n",
    "# Initialize the lists containing the F_i's and A_i's\n",
    "f_subsets = []\n",
    "\n",
    "\n",
    "# Define F_i's \n",
    "for i in range(num_subsets):\n",
    "    # Define F_i and put into list\n",
    "    fi = 0.5*L2NormSquared(b = partitioned_data[i])\n",
    "    f_subsets.append(fi)\n",
    "    \n",
    "    \n",
    "ageom_subset = partitioned_data.geometry\n",
    "A = ProjectionOperator(ig2D, ageom_subset)\n",
    "\n",
    "#F = L2NormSquared.fromBlockDataContainer(partitioned_data, constant=0.5)\n",
    "\n",
    "# Define F and K\n",
    "F = BlockFunction(*f_subsets)\n",
    "K = A\n",
    "\n",
    "# Define G (by default the positivity constraint is on)\n",
    "alpha = 0.025\n",
    "G = alpha * FGP_TV()"
   ]
  },
  {
   "cell_type": "code",
   "execution_count": null,
   "metadata": {},
   "outputs": [],
   "source": [
    "print(ageom_subset)\n",
    "print(A)\n",
    "print(A.shape[0])"
   ]
  },
  {
   "cell_type": "code",
   "execution_count": null,
   "metadata": {},
   "outputs": [],
   "source": [
    "\n",
    "spdhg_sequential = SPDHG(f = F, g = G, operator = K,  max_iteration = 30*num_subsets,\n",
    "            update_objective_interval = num_subsets, sampler=Sampler.sequential(num_subsets))\n",
    "spdhg_sequential.run()\n",
    "\n",
    "spdhg_recon = spdhg_sequential.solution    "
   ]
  },
  {
   "cell_type": "code",
   "execution_count": null,
   "metadata": {},
   "outputs": [],
   "source": [
    "from numbers import Number\n",
    "tau=spdhg_sequential._tau\n",
    "sigma=spdhg_sequential._sigma\n",
    "\n"
   ]
  },
  {
   "cell_type": "code",
   "execution_count": null,
   "metadata": {},
   "outputs": [],
   "source": [
    "# Setup and run SPDHG for 50 iterations\n",
    "spdhg_pert = SPDHG(f = F, g = G, operator = K,  max_iteration = 30*num_subsets,\n",
    "            update_objective_interval = num_subsets, sampler=Sampler.randomWithReplacement(num_subsets))\n",
    "spdhg_pert.run()\n",
    "\n",
    "spdhg_recon = spdhg_pert.solution    "
   ]
  },
  {
   "cell_type": "code",
   "execution_count": null,
   "metadata": {},
   "outputs": [],
   "source": [
    "# Setup and run SPDHG for 50 iterations\n",
    "spdhg_random = SPDHG(f = F, g = G, operator = K,  max_iteration = 30*num_subsets,\n",
    "            update_objective_interval = num_subsets , sampler=Sampler.randomWithoutReplacement(num_subsets))\n",
    "spdhg_random.run()\n",
    "\n",
    "spdhg_recon = spdhg_random.solution    "
   ]
  },
  {
   "cell_type": "code",
   "execution_count": null,
   "metadata": {},
   "outputs": [],
   "source": [
    "spdhg_hermanmeyer = SPDHG(f = F, g = G, operator = K,  max_iteration = 30*num_subsets,\n",
    "            update_objective_interval = num_subsets, sampler=Sampler.hermanMeyer(num_subsets))\n",
    "spdhg_hermanmeyer.run()\n",
    "\n",
    "spdhg_recon = spdhg_hermanmeyer.solution    "
   ]
  },
  {
   "cell_type": "code",
   "execution_count": null,
   "metadata": {},
   "outputs": [],
   "source": [
    "spdhg_staggered = SPDHG(f = F, g = G, operator = K,  max_iteration = 30*num_subsets,\n",
    "            update_objective_interval = num_subsets, sampler=Sampler.staggered(num_subsets, 3))\n",
    "spdhg_staggered.run()\n",
    "\n",
    "spdhg_recon = spdhg_staggered.solution    "
   ]
  },
  {
   "cell_type": "code",
   "execution_count": null,
   "metadata": {},
   "outputs": [],
   "source": [
    "iter_range=range(0,30+1)\n",
    "plt.figure()\n",
    "plt.semilogy(iter_range, spdhg_sequential.objective, label='Sequential')\n",
    "plt.semilogy(iter_range, spdhg_random.objective, label='Random with replacement (default)')\n",
    "plt.semilogy(iter_range, spdhg_staggered.objective, label='Staggered (offset=3)')\n",
    "plt.semilogy(iter_range, spdhg_pert.objective, label='Random without replacement')\n",
    "plt.semilogy(iter_range, spdhg_hermanmeyer.objective, label='Herman Meyer')\n",
    "plt.xlabel('Epochs')\n",
    "plt.ylabel('Objective')\n",
    "plt.ylim(25,60)\n",
    "plt.legend()\n",
    "plt.show()"
   ]
  },
  {
   "cell_type": "code",
   "execution_count": null,
   "metadata": {},
   "outputs": [],
   "source": []
  },
  {
   "cell_type": "code",
   "execution_count": null,
   "metadata": {},
   "outputs": [],
   "source": []
  }
 ],
 "metadata": {
  "kernelspec": {
   "display_name": "cil",
   "language": "python",
   "name": "python3"
  },
  "language_info": {
   "codemirror_mode": {
    "name": "ipython",
    "version": 3
   },
   "file_extension": ".py",
   "mimetype": "text/x-python",
   "name": "python",
   "nbconvert_exporter": "python",
   "pygments_lexer": "ipython3",
   "version": "3.10.12"
  },
  "orig_nbformat": 4
 },
 "nbformat": 4,
 "nbformat_minor": 2
}
